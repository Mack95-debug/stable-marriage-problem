{
 "cells": [
  {
   "cell_type": "code",
   "execution_count": 55,
   "metadata": {
    "collapsed": true
   },
   "outputs": [],
   "source": [
    "# males = {'k': ['b', 'c', 'a'],\n",
    "#         'l': ['a', 'c', 'b'],\n",
    "#         'm': ['a', 'b', 'c']}\n",
    "\n",
    "# females = {'a': ['k', 'l', 'm'],\n",
    "#           'b': ['l', 'm', 'k'],\n",
    "#           'c': ['m', 'l', 'k']}\n",
    "# # Expected outcome: {'b': 'k', 'a': 'l', 'c': 'k'}"
   ]
  },
  {
   "cell_type": "code",
   "execution_count": 63,
   "metadata": {
    "collapsed": true
   },
   "outputs": [],
   "source": [
    "males = {'0': ['7', '5', '6', '4'],\n",
    "        '1': ['5', '4', '6', '7'],\n",
    "        '2': ['4', '5', '6', '7'],\n",
    "        '3': ['4', '5', '6', '7']}\n",
    "\n",
    "females = {'4': ['0', '1', '2', '3'],\n",
    "          '5': ['0', '1', '2', '3'],\n",
    "          '6': ['0', '1', '2', '3'],\n",
    "          '7': ['0', '1', '2', '3']}\n",
    "# {'7': '0', '5': '1', '4': '2', '6': '3'}"
   ]
  },
  {
   "cell_type": "code",
   "execution_count": 64,
   "metadata": {
    "collapsed": false
   },
   "outputs": [
    {
     "name": "stdout",
     "output_type": "stream",
     "text": [
      "guy 0 pick girl 7\n",
      "guy 1 pick girl 5\n",
      "guy 2 pick girl 4\n",
      "guy 3 pick girl 4\n",
      "girl 4 is choosen\n",
      "girl 4 picked 2 instead of 3\n",
      "{'7': '0', '5': '1', '4': '2'} {'0': True, '1': True, '2': True, '3': False}\n",
      "guy 3 pick girl 5\n",
      "girl 5 is choosen\n",
      "girl 5 picked 1 instead of 3\n",
      "{'7': '0', '5': '1', '4': '2'} {'0': True, '1': True, '2': True, '3': False}\n",
      "guy 3 pick girl 6\n",
      "{'7': '0', '5': '1', '4': '2', '6': '3'} {'0': True, '1': True, '2': True, '3': True}\n",
      "{'7': '0', '5': '1', '4': '2', '6': '3'} {'0': True, '1': True, '2': True, '3': True}\n"
     ]
    }
   ],
   "source": [
    "output = {}\n",
    "\n",
    "epochs = len(males.keys())\n",
    "\n",
    "proposer = {}\n",
    "\n",
    "\n",
    "def match(i):\n",
    "    for male in males:\n",
    "        if male in proposer:\n",
    "            if proposer[male]:\n",
    "                continue\n",
    "        choice = males[male][i]\n",
    "        print('guy {} pick girl {}'.format(male, choice))\n",
    "        if choice in output:\n",
    "            print('girl {} is choosen'.format(choice))\n",
    "            picked_male = output[choice]\n",
    "            if females[choice].index(picked_male) < females[choice].index(male):\n",
    "                # Smaller index means higher preference\n",
    "                print('girl {} picked {} instead of {}'.format(choice, picked_male, male))\n",
    "                output[choice] = picked_male\n",
    "                proposer[male] = False\n",
    "                proposer[picked_male] = True\n",
    "            else:\n",
    "                proposer[male] = True\n",
    "                proposer[picked_male] = False\n",
    "        else:\n",
    "            output[choice] = male\n",
    "            proposer[male] = True\n",
    "    print(output, proposer)\n",
    "\n",
    "while not all(proposer.values()) or len(proposer.values()) != epochs:\n",
    "    for i in range(epochs):\n",
    "        match(i)"
   ]
  }
 ],
 "metadata": {
  "kernelspec": {
   "display_name": "Python 3",
   "language": "python",
   "name": "python3"
  },
  "language_info": {
   "codemirror_mode": {
    "name": "ipython",
    "version": 3
   },
   "file_extension": ".py",
   "mimetype": "text/x-python",
   "name": "python",
   "nbconvert_exporter": "python",
   "pygments_lexer": "ipython3",
   "version": "3.6.4"
  }
 },
 "nbformat": 4,
 "nbformat_minor": 2
}
